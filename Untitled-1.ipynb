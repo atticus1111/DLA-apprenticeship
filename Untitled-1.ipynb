{
 "cells": [
  {
   "cell_type": "code",
   "execution_count": null,
   "id": "91e99fee",
   "metadata": {},
   "outputs": [],
   "source": [
    "#chekcin \n",
    "# more!\n"
   ]
  },
  {
   "cell_type": "markdown",
   "id": "7f6fb4c8",
   "metadata": {},
   "source": []
  }
 ],
 "metadata": {
  "language_info": {
   "name": "python"
  }
 },
 "nbformat": 4,
 "nbformat_minor": 5
}
